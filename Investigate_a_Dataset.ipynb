{
 "cells": [
  {
   "cell_type": "markdown",
   "metadata": {},
   "source": [
    "\n",
    "# Projet: Investiguer un Dataset - [TMDB_Movie.csv]\n",
    "\n",
    "## Table de matière\n",
    "<ul>\n",
    "<li><a href=\"#intro\">Introduction</a></li>\n",
    "<li><a href=\"#wrangling\">Préparation des données</a></li>\n",
    "<li><a href=\"#eda\">Analyse exploratoire des données</a></li>\n",
    "<li><a href=\"#conclusions\">Conclusions</a></li>\n",
    "</ul>"
   ]
  },
  {
   "cell_type": "markdown",
   "metadata": {},
   "source": [
    "<a id='intro'></a>\n",
    "## Introduction\n",
    "\n",
    "### Description du Dataset \n",
    "\n",
    "La base de données que nous avons choisi d'explorer pour notre travail est **TMDb movie data**. Cette base de données contient des informations sur plus de 10 000 films collectés à partir de la plateforme _the movies database_  incluant les scores et les revenues de ces différents films.\n",
    "\n",
    "Les données que nous pouvons retrouver dans cette base de données sont listées comme suit:\n",
    "<ol>\n",
    "    <li>id - Identifiant du film</li>\n",
    "    <li>imdb_id - Identifiant du film sur l'internet movie database</li>\n",
    "    <li>popularity - score de popularite du film sur 100</li>\n",
    "    <li>budget - budget de realisation du film</li>\n",
    "    <li>revenue - benefices apportes par le film</li>\n",
    "    <li>original title - titre original du film</li>\n",
    "    <li>cast - liste des acteurs principaux/celebres du film</li>\n",
    "    <li>home_page - lien du site internet du film</li>\n",
    "    <li>director - realisateur du film</li>\n",
    "    <li>tagline - Phrase d'accroche du film</li>\n",
    "    <li>keywords - mots cles du film</li>\n",
    "    <li>overview - apercu du film</li>\n",
    "    <li>runtime - Duree du film</li>\n",
    "    <li>genre - Genre du film</li>\n",
    "    <li>production_companies</li>\n",
    "    <li>release_date - date de sortie</li>\n",
    "    <li>vote_count - nombre de votes enregistres</li>\n",
    "    <li>vote_average - moyenne des votes enregistres</li>\n",
    "    <li>release_year - annee de sortie</li>\n",
    "    <li>budget_adj - budget en dollars americain de l'annee 2010</li>\n",
    "    <li>revenue_adj - revenue en dollars americains de l'annee 2010</li>\n",
    "</ol>\n",
    "\n",
    "\n",
    "### Questions d'analyse\n",
    "Nous avons décidé de nous poser 5 questions pour analyser notre dataset :\n",
    "<ul>\n",
    "    <li>Quels genres de films sont les plus produits?</li>\n",
    "    <li>Quels genres de films sont les plus populaire?</li>\n",
    "    <li>Quelles maisons de production produisent le plus de films ?</li>\n",
    "    <li>Quels revenus ont elles engrangés grace à leurs films de 2015 ?</li>\n",
    "    <li>Les films d'horreur sont ils rentables ?</li>\n",
    "</ul>"
   ]
  },
  {
   "cell_type": "code",
   "execution_count": 1,
   "metadata": {},
   "outputs": [],
   "source": [
    "#Importation des différentes librairies\n",
    "import pandas as pd\n",
    "import numpy as np\n",
    "import matplotlib.pyplot as plt\n",
    "import seaborn as sns\n",
    "%matplotlib inline\n"
   ]
  },
  {
   "cell_type": "markdown",
   "metadata": {},
   "source": [
    "<a id='wrangling'></a>\n",
    "## Préparation des données\n",
    "\n",
    "Nous commencons d'abord par charger notre jeu de données et nous faisons un bref aperçu afin d'en apercevoir la structure à priori.\n"
   ]
  },
  {
   "cell_type": "code",
   "execution_count": 2,
   "metadata": {},
   "outputs": [
    {
     "data": {
      "text/html": [
       "<div>\n",
       "<style scoped>\n",
       "    .dataframe tbody tr th:only-of-type {\n",
       "        vertical-align: middle;\n",
       "    }\n",
       "\n",
       "    .dataframe tbody tr th {\n",
       "        vertical-align: top;\n",
       "    }\n",
       "\n",
       "    .dataframe thead th {\n",
       "        text-align: right;\n",
       "    }\n",
       "</style>\n",
       "<table border=\"1\" class=\"dataframe\">\n",
       "  <thead>\n",
       "    <tr style=\"text-align: right;\">\n",
       "      <th></th>\n",
       "      <th>id</th>\n",
       "      <th>imdb_id</th>\n",
       "      <th>popularity</th>\n",
       "      <th>budget</th>\n",
       "      <th>revenue</th>\n",
       "      <th>original_title</th>\n",
       "      <th>cast</th>\n",
       "      <th>homepage</th>\n",
       "      <th>director</th>\n",
       "      <th>tagline</th>\n",
       "      <th>...</th>\n",
       "      <th>overview</th>\n",
       "      <th>runtime</th>\n",
       "      <th>genres</th>\n",
       "      <th>production_companies</th>\n",
       "      <th>release_date</th>\n",
       "      <th>vote_count</th>\n",
       "      <th>vote_average</th>\n",
       "      <th>release_year</th>\n",
       "      <th>budget_adj</th>\n",
       "      <th>revenue_adj</th>\n",
       "    </tr>\n",
       "  </thead>\n",
       "  <tbody>\n",
       "    <tr>\n",
       "      <th>0</th>\n",
       "      <td>135397</td>\n",
       "      <td>tt0369610</td>\n",
       "      <td>32.985763</td>\n",
       "      <td>150000000</td>\n",
       "      <td>1513528810</td>\n",
       "      <td>Jurassic World</td>\n",
       "      <td>Chris Pratt|Bryce Dallas Howard|Irrfan Khan|Vi...</td>\n",
       "      <td>http://www.jurassicworld.com/</td>\n",
       "      <td>Colin Trevorrow</td>\n",
       "      <td>The park is open.</td>\n",
       "      <td>...</td>\n",
       "      <td>Twenty-two years after the events of Jurassic ...</td>\n",
       "      <td>124</td>\n",
       "      <td>Action|Adventure|Science Fiction|Thriller</td>\n",
       "      <td>Universal Studios|Amblin Entertainment|Legenda...</td>\n",
       "      <td>6/9/15</td>\n",
       "      <td>5562</td>\n",
       "      <td>6.5</td>\n",
       "      <td>2015</td>\n",
       "      <td>1.379999e+08</td>\n",
       "      <td>1.392446e+09</td>\n",
       "    </tr>\n",
       "  </tbody>\n",
       "</table>\n",
       "<p>1 rows × 21 columns</p>\n",
       "</div>"
      ],
      "text/plain": [
       "       id    imdb_id  popularity     budget     revenue  original_title  \\\n",
       "0  135397  tt0369610   32.985763  150000000  1513528810  Jurassic World   \n",
       "\n",
       "                                                cast  \\\n",
       "0  Chris Pratt|Bryce Dallas Howard|Irrfan Khan|Vi...   \n",
       "\n",
       "                        homepage         director            tagline  \\\n",
       "0  http://www.jurassicworld.com/  Colin Trevorrow  The park is open.   \n",
       "\n",
       "       ...                                                overview runtime  \\\n",
       "0      ...       Twenty-two years after the events of Jurassic ...     124   \n",
       "\n",
       "                                      genres  \\\n",
       "0  Action|Adventure|Science Fiction|Thriller   \n",
       "\n",
       "                                production_companies release_date vote_count  \\\n",
       "0  Universal Studios|Amblin Entertainment|Legenda...       6/9/15       5562   \n",
       "\n",
       "   vote_average  release_year    budget_adj   revenue_adj  \n",
       "0           6.5          2015  1.379999e+08  1.392446e+09  \n",
       "\n",
       "[1 rows x 21 columns]"
      ]
     },
     "execution_count": 2,
     "metadata": {},
     "output_type": "execute_result"
    }
   ],
   "source": [
    "# Chargement des données et aperçu\n",
    "df = pd.read_csv('Database_TMDb_movie_data/tmdb-movies.csv')\n",
    "df.head(1)"
   ]
  },
  {
   "cell_type": "code",
   "execution_count": 3,
   "metadata": {},
   "outputs": [
    {
     "name": "stdout",
     "output_type": "stream",
     "text": [
      "Le dataframe compte 10866 lignes et 21 colonnes\n"
     ]
    }
   ],
   "source": [
    "#Architecture generale de la base de donnees\n",
    "df.shape\n",
    "\n",
    "print('Le dataframe compte {} lignes et {} colonnes'.format(df.shape[0], df.shape[1]))"
   ]
  },
  {
   "cell_type": "markdown",
   "metadata": {},
   "source": [
    "Nous allons par la suite essayer d'etudier la structure des differentes colonnes de notre dataframe"
   ]
  },
  {
   "cell_type": "code",
   "execution_count": 4,
   "metadata": {},
   "outputs": [
    {
     "name": "stdout",
     "output_type": "stream",
     "text": [
      "<class 'pandas.core.frame.DataFrame'>\n",
      "RangeIndex: 10866 entries, 0 to 10865\n",
      "Data columns (total 21 columns):\n",
      "id                      10866 non-null int64\n",
      "imdb_id                 10856 non-null object\n",
      "popularity              10866 non-null float64\n",
      "budget                  10866 non-null int64\n",
      "revenue                 10866 non-null int64\n",
      "original_title          10866 non-null object\n",
      "cast                    10790 non-null object\n",
      "homepage                2936 non-null object\n",
      "director                10822 non-null object\n",
      "tagline                 8042 non-null object\n",
      "keywords                9373 non-null object\n",
      "overview                10862 non-null object\n",
      "runtime                 10866 non-null int64\n",
      "genres                  10843 non-null object\n",
      "production_companies    9836 non-null object\n",
      "release_date            10866 non-null object\n",
      "vote_count              10866 non-null int64\n",
      "vote_average            10866 non-null float64\n",
      "release_year            10866 non-null int64\n",
      "budget_adj              10866 non-null float64\n",
      "revenue_adj             10866 non-null float64\n",
      "dtypes: float64(4), int64(6), object(11)\n",
      "memory usage: 1.7+ MB\n"
     ]
    }
   ],
   "source": [
    "# Informations sur le type des colonnes du dataframe\n",
    "df.info()"
   ]
  },
  {
   "cell_type": "markdown",
   "metadata": {},
   "source": [
    "A partir de là, nous pouvons déceler que les colonnes __imdb_id, cast, homepage, tagline, keywords, overview, genres et production_companies__ ont des valeurs manquantes.\n",
    "\n",
    "<u><strong>Solution preconisee :</strong></u>\n",
    "Nous allons effectuer plus d'observation afin de déterminer ce que nous ferons des valeurs manquantes\n",
    "\n",
    "Nous observons également que la colonne __id__ est de type numérique entier, ce qui est problématique étant donné qu'elle n'est pas utilisée à des fins de calcul. \n",
    "\n",
    "<u><strong>Solution preconisee :</strong></u>\n",
    "Nous allons convertir cette colonne en chaine de caractères\n",
    "\n",
    "Nous évaluons également les informations concernant les champs numériques de notre dataframe"
   ]
  },
  {
   "cell_type": "code",
   "execution_count": 5,
   "metadata": {
    "scrolled": true
   },
   "outputs": [
    {
     "data": {
      "text/html": [
       "<div>\n",
       "<style scoped>\n",
       "    .dataframe tbody tr th:only-of-type {\n",
       "        vertical-align: middle;\n",
       "    }\n",
       "\n",
       "    .dataframe tbody tr th {\n",
       "        vertical-align: top;\n",
       "    }\n",
       "\n",
       "    .dataframe thead th {\n",
       "        text-align: right;\n",
       "    }\n",
       "</style>\n",
       "<table border=\"1\" class=\"dataframe\">\n",
       "  <thead>\n",
       "    <tr style=\"text-align: right;\">\n",
       "      <th></th>\n",
       "      <th>id</th>\n",
       "      <th>popularity</th>\n",
       "      <th>budget</th>\n",
       "      <th>revenue</th>\n",
       "      <th>runtime</th>\n",
       "      <th>vote_count</th>\n",
       "      <th>vote_average</th>\n",
       "      <th>release_year</th>\n",
       "      <th>budget_adj</th>\n",
       "      <th>revenue_adj</th>\n",
       "    </tr>\n",
       "  </thead>\n",
       "  <tbody>\n",
       "    <tr>\n",
       "      <th>count</th>\n",
       "      <td>10866.000000</td>\n",
       "      <td>10866.000000</td>\n",
       "      <td>1.086600e+04</td>\n",
       "      <td>1.086600e+04</td>\n",
       "      <td>10866.000000</td>\n",
       "      <td>10866.000000</td>\n",
       "      <td>10866.000000</td>\n",
       "      <td>10866.000000</td>\n",
       "      <td>1.086600e+04</td>\n",
       "      <td>1.086600e+04</td>\n",
       "    </tr>\n",
       "    <tr>\n",
       "      <th>mean</th>\n",
       "      <td>66064.177434</td>\n",
       "      <td>0.646441</td>\n",
       "      <td>1.462570e+07</td>\n",
       "      <td>3.982332e+07</td>\n",
       "      <td>102.070863</td>\n",
       "      <td>217.389748</td>\n",
       "      <td>5.974922</td>\n",
       "      <td>2001.322658</td>\n",
       "      <td>1.755104e+07</td>\n",
       "      <td>5.136436e+07</td>\n",
       "    </tr>\n",
       "    <tr>\n",
       "      <th>std</th>\n",
       "      <td>92130.136561</td>\n",
       "      <td>1.000185</td>\n",
       "      <td>3.091321e+07</td>\n",
       "      <td>1.170035e+08</td>\n",
       "      <td>31.381405</td>\n",
       "      <td>575.619058</td>\n",
       "      <td>0.935142</td>\n",
       "      <td>12.812941</td>\n",
       "      <td>3.430616e+07</td>\n",
       "      <td>1.446325e+08</td>\n",
       "    </tr>\n",
       "    <tr>\n",
       "      <th>min</th>\n",
       "      <td>5.000000</td>\n",
       "      <td>0.000065</td>\n",
       "      <td>0.000000e+00</td>\n",
       "      <td>0.000000e+00</td>\n",
       "      <td>0.000000</td>\n",
       "      <td>10.000000</td>\n",
       "      <td>1.500000</td>\n",
       "      <td>1960.000000</td>\n",
       "      <td>0.000000e+00</td>\n",
       "      <td>0.000000e+00</td>\n",
       "    </tr>\n",
       "    <tr>\n",
       "      <th>25%</th>\n",
       "      <td>10596.250000</td>\n",
       "      <td>0.207583</td>\n",
       "      <td>0.000000e+00</td>\n",
       "      <td>0.000000e+00</td>\n",
       "      <td>90.000000</td>\n",
       "      <td>17.000000</td>\n",
       "      <td>5.400000</td>\n",
       "      <td>1995.000000</td>\n",
       "      <td>0.000000e+00</td>\n",
       "      <td>0.000000e+00</td>\n",
       "    </tr>\n",
       "    <tr>\n",
       "      <th>50%</th>\n",
       "      <td>20669.000000</td>\n",
       "      <td>0.383856</td>\n",
       "      <td>0.000000e+00</td>\n",
       "      <td>0.000000e+00</td>\n",
       "      <td>99.000000</td>\n",
       "      <td>38.000000</td>\n",
       "      <td>6.000000</td>\n",
       "      <td>2006.000000</td>\n",
       "      <td>0.000000e+00</td>\n",
       "      <td>0.000000e+00</td>\n",
       "    </tr>\n",
       "    <tr>\n",
       "      <th>75%</th>\n",
       "      <td>75610.000000</td>\n",
       "      <td>0.713817</td>\n",
       "      <td>1.500000e+07</td>\n",
       "      <td>2.400000e+07</td>\n",
       "      <td>111.000000</td>\n",
       "      <td>145.750000</td>\n",
       "      <td>6.600000</td>\n",
       "      <td>2011.000000</td>\n",
       "      <td>2.085325e+07</td>\n",
       "      <td>3.369710e+07</td>\n",
       "    </tr>\n",
       "    <tr>\n",
       "      <th>max</th>\n",
       "      <td>417859.000000</td>\n",
       "      <td>32.985763</td>\n",
       "      <td>4.250000e+08</td>\n",
       "      <td>2.781506e+09</td>\n",
       "      <td>900.000000</td>\n",
       "      <td>9767.000000</td>\n",
       "      <td>9.200000</td>\n",
       "      <td>2015.000000</td>\n",
       "      <td>4.250000e+08</td>\n",
       "      <td>2.827124e+09</td>\n",
       "    </tr>\n",
       "  </tbody>\n",
       "</table>\n",
       "</div>"
      ],
      "text/plain": [
       "                  id    popularity        budget       revenue       runtime  \\\n",
       "count   10866.000000  10866.000000  1.086600e+04  1.086600e+04  10866.000000   \n",
       "mean    66064.177434      0.646441  1.462570e+07  3.982332e+07    102.070863   \n",
       "std     92130.136561      1.000185  3.091321e+07  1.170035e+08     31.381405   \n",
       "min         5.000000      0.000065  0.000000e+00  0.000000e+00      0.000000   \n",
       "25%     10596.250000      0.207583  0.000000e+00  0.000000e+00     90.000000   \n",
       "50%     20669.000000      0.383856  0.000000e+00  0.000000e+00     99.000000   \n",
       "75%     75610.000000      0.713817  1.500000e+07  2.400000e+07    111.000000   \n",
       "max    417859.000000     32.985763  4.250000e+08  2.781506e+09    900.000000   \n",
       "\n",
       "         vote_count  vote_average  release_year    budget_adj   revenue_adj  \n",
       "count  10866.000000  10866.000000  10866.000000  1.086600e+04  1.086600e+04  \n",
       "mean     217.389748      5.974922   2001.322658  1.755104e+07  5.136436e+07  \n",
       "std      575.619058      0.935142     12.812941  3.430616e+07  1.446325e+08  \n",
       "min       10.000000      1.500000   1960.000000  0.000000e+00  0.000000e+00  \n",
       "25%       17.000000      5.400000   1995.000000  0.000000e+00  0.000000e+00  \n",
       "50%       38.000000      6.000000   2006.000000  0.000000e+00  0.000000e+00  \n",
       "75%      145.750000      6.600000   2011.000000  2.085325e+07  3.369710e+07  \n",
       "max     9767.000000      9.200000   2015.000000  4.250000e+08  2.827124e+09  "
      ]
     },
     "execution_count": 5,
     "metadata": {},
     "output_type": "execute_result"
    }
   ],
   "source": [
    "df.describe()"
   ]
  },
  {
   "cell_type": "markdown",
   "metadata": {},
   "source": [
    "Nous constatons que la colonne **'popularity'** a un maximum à 32,98 et les colonnes budget et revenu ont des minimum à 0 ce qui suggère qu'il pourrait y avoir des valeurs abberantes dans notre jeu de données. \n",
    "\n",
    "<u><strong>Solution préconisée :</strong></u>\n",
    "Nnous allons evaluer l'impact des valeurs aberrantes sur le dataframe.\n",
    "\n",
    "Continuons notre investigation en determinant le nombre de valeurs manquantes par colonne, et si eventuellement il existe des doublons dans le dataframe. "
   ]
  },
  {
   "cell_type": "code",
   "execution_count": null,
   "metadata": {},
   "outputs": [],
   "source": [
    "#Détermination du nombre de valeurs manquantes par colonne\n",
    "df.isna().sum()"
   ]
  },
  {
   "cell_type": "code",
   "execution_count": null,
   "metadata": {},
   "outputs": [],
   "source": [
    "#Détermination du nombre de valeurs manquantes par colonne\n",
    "df.isna().sum().sum()\n",
    "print('notre jeu de donnees presente au total {} donnees manquantes'.format(df.isna().sum().sum()))"
   ]
  },
  {
   "cell_type": "markdown",
   "metadata": {},
   "source": [
    "<u><strong>Solution preconisee :</strong></u>\n",
    "\n",
    "> Les colonnes __\"homepage\", \"tagline\", \"overview\"__ et __\"keywords\"__ n'étant pas significatives en terme d'information, nous allons les supprimer.\n",
    "\n",
    "> Les films ayant déjà la colonne __\"Id\"__ bien remplie et complète, la colonne  __\"IMDb_id\"__ n'a aucune utilité en soit donc elle peut e᷆tre egalement supprimee.\n",
    "\n",
    "> Les colonnes __\"production companies\"__ et __\"director\"__ peuvent e᷆tre utiles pour nos analyses. Nous allons remplacer les champs vides de ces colonnes par la valeur __'Unknown'__\n",
    "\n",
    "> La colonne __\"genre\"__ peut aussi nous etre utile en analyse. on va doc remplacer ses champs vides par la valeur __'Uncategorize'__\n",
    "\n",
    "> En supposant que les films qui auront le champ de la colonne __\"cast\"__ nul sont des films qui n'ont aucun acteur celebre, on va remplacer ses champs vides par la valeur __'Unpopular'__\n",
    "\n"
   ]
  },
  {
   "cell_type": "code",
   "execution_count": null,
   "metadata": {},
   "outputs": [],
   "source": [
    "#Détermination du nombre de valeurs dupliquées dans le dataframe\n",
    "df[df.duplicated(keep=False)]"
   ]
  },
  {
   "cell_type": "markdown",
   "metadata": {},
   "source": [
    "Notre dataframe ne compte qu'une seule ligne en double.\n",
    "\n",
    "<u><strong>Solution preconisee :</strong></u>\n",
    "Supprimer le doublon"
   ]
  },
  {
   "cell_type": "markdown",
   "metadata": {},
   "source": [
    "Analysons également notre dataframe afin de déterminer si l'on peut dégager des listes de valeurs pour l'étape de visualisation."
   ]
  },
  {
   "cell_type": "code",
   "execution_count": null,
   "metadata": {},
   "outputs": [],
   "source": [
    "#Nombre de valeurs uniques par colonne\n",
    "df.nunique()"
   ]
  },
  {
   "cell_type": "code",
   "execution_count": null,
   "metadata": {},
   "outputs": [],
   "source": [
    "# Valeurs uniques de genre de films\n",
    "df.genres.unique"
   ]
  },
  {
   "cell_type": "code",
   "execution_count": null,
   "metadata": {},
   "outputs": [],
   "source": [
    "# valeurs uniques des maisons de production\n",
    "df.production_companies.unique"
   ]
  },
  {
   "cell_type": "markdown",
   "metadata": {},
   "source": [
    "On ne peut pas effectuer des sélections  à priori dans notre data frame. Cependant en observant mieux les colonnes __\"genres\", \"production_companies\", \"cast\"__ on se rend facilement compte qu'il y a plusieurs valeurs separées par \"|\" ce qui pourrait nous aider dans l'exploitation de nos données.\n",
    "\n",
    "<u><strong>Solution préconisée :</strong></u> créer des cellules pour chacune des valeurs comprises dans les colonnes qui ont le caractère \"|\". \n",
    "\n",
    "><u><strong>NB :</strong></u> Nous allons procéder à la séparation des champs colonne par colonne pour ne pas surcharger notre dataframe. Nous allons donc séparer notre dataframe en 3 parties, l'une pour les analyses qui portent sur __\"genres\"__, une deuxieme partie pour les analyses qui portent sur __\"production_companies\"__ et une dernière pour les analyses qui portent sur aucune des deux variables."
   ]
  },
  {
   "cell_type": "markdown",
   "metadata": {},
   "source": [
    "\n",
    "### Data Cleaning\n",
    "\n",
    "Nous allons effectuer le nettoyage conformement aux preconisations de la section precedente."
   ]
  },
  {
   "cell_type": "markdown",
   "metadata": {},
   "source": [
    "Nous changeons d'abord le format de la colonne __\"Id\"__"
   ]
  },
  {
   "cell_type": "code",
   "execution_count": null,
   "metadata": {},
   "outputs": [],
   "source": [
    "#Modifier le type de la colonne id\n",
    "df['id'].astype(str)"
   ]
  },
  {
   "cell_type": "markdown",
   "metadata": {},
   "source": [
    "Nous allons maintenant supprimer les doublons et les champs et colonnes vides ou inutiles. "
   ]
  },
  {
   "cell_type": "code",
   "execution_count": null,
   "metadata": {},
   "outputs": [],
   "source": [
    "#Suppression des doublons\n",
    "df.drop_duplicates(inplace = True)"
   ]
  },
  {
   "cell_type": "code",
   "execution_count": null,
   "metadata": {},
   "outputs": [],
   "source": [
    "#Suppression des colonnes inutiles \"homepage\", \"tagline\", \"overview\" et \"keywords\"\n",
    "df.drop(['homepage','tagline','overview','keywords'], axis=1, inplace= True)\n"
   ]
  },
  {
   "cell_type": "code",
   "execution_count": null,
   "metadata": {},
   "outputs": [],
   "source": [
    "#Suppression de la colonne imdb_id\n",
    "df.drop(['imdb_id'], axis=1, inplace = True)"
   ]
  },
  {
   "cell_type": "code",
   "execution_count": null,
   "metadata": {},
   "outputs": [],
   "source": [
    "df.isna().sum()"
   ]
  },
  {
   "cell_type": "code",
   "execution_count": null,
   "metadata": {},
   "outputs": [],
   "source": [
    "#Remplacer les valeurs nulles des colonnes cast , director, genres et production_companies \n",
    "\n",
    "#On remplace les valeurs nulles de cast par Unpopular\n",
    "df['cast'].fillna('Unpopular', inplace = True)"
   ]
  },
  {
   "cell_type": "code",
   "execution_count": null,
   "metadata": {},
   "outputs": [],
   "source": [
    "#On remplace les valeurs nulles de director et production_companies par 'Unknown'\n",
    "# On remplace les valeurs nulles de genres par Uncategorized\n",
    "df.loc[:,['director','production_companies']] = df.loc[:,['director','production_companies']].fillna('Unknown')\n",
    "df['genres'].fillna('Uncategorized', inplace = True)"
   ]
  },
  {
   "cell_type": "markdown",
   "metadata": {},
   "source": [
    "Nous pouvons constater qu'à partir de là il n'y a plus de doublons et de valeurs nulles. \n",
    "\n",
    "Nous allons ensuite séparer notre dataframe en 2 afin de pouvoir faire des explorations sur le genre (on appellera ce nouveau dataframe **df_merge_genre**) et des explorations sur la maison de production (on appellera ce nouveau dataframe **df_merge_companies**)"
   ]
  },
  {
   "cell_type": "code",
   "execution_count": null,
   "metadata": {},
   "outputs": [],
   "source": [
    "#création des 2 nouveaux dataframe\n",
    "df_genre = df.copy()\n",
    "df_prodcom = df.copy()"
   ]
  },
  {
   "cell_type": "markdown",
   "metadata": {},
   "source": [
    "Nous allons separer la colonne 'genres' afin d'avoir un seul genre de film par cellule."
   ]
  },
  {
   "cell_type": "code",
   "execution_count": null,
   "metadata": {},
   "outputs": [],
   "source": [
    "#séparation de la colonne genre dans le dataframe df_genre\n",
    "#on créé un df avec toutes les valeurs contenant le caractère '|'\n",
    "df_g = df_genre[df_genre['genres'].str.contains('|')]\n",
    "df_genre_1 = df_g.copy()\n",
    "\n",
    "#On coupe le dataframe et on créé un objet serie avec plusieurs index\n",
    "df_genre_1 = df_genre_1.genres.str.split('|',expand=True).stack()\n",
    "\n",
    "#on créé une nouvelle colonne index pour faire une jointure\n",
    "df_g['index']=df_g.index\n",
    "\n",
    "#on extrait et on garde un seul niveau d'index et on créé une colonne index\n",
    "df_genre_1.index =df_genre_1.index.get_level_values(0)\n",
    "df_genre_1 = df_genre_1.to_frame() #df_genre_1 est transformé en dataframe\n",
    "df_genre_1.rename(columns = {0 : 'genre'}, inplace = True)\n",
    "df_genre_1['index']=df_genre_1.index\n",
    "\n",
    "# on réalise une jointure entre les 2 dataframe \n",
    "df_genre_2 = pd.merge(df_g,df_genre_1, how='outer' ,on='index')\n",
    "\n",
    "#on déplace la colonne à la bonne position\n",
    "coldep = df_genre_2.pop('genre')\n",
    "df_genre_2.insert(8,'genre',coldep)\n",
    "\n",
    "#on supprime l'ancienne colonne genres et la colonne index\n",
    "df_genre_2.drop('genres',axis=1, inplace = True)\n",
    "df_genre_2.drop('index',axis=1, inplace = True)\n"
   ]
  },
  {
   "cell_type": "code",
   "execution_count": null,
   "metadata": {},
   "outputs": [],
   "source": [
    "df_merge_genre = df_genre_2"
   ]
  },
  {
   "cell_type": "markdown",
   "metadata": {},
   "source": [
    "Nous utilisons le meme procede pour scinder la colonne __'production_companies'__"
   ]
  },
  {
   "cell_type": "code",
   "execution_count": null,
   "metadata": {},
   "outputs": [],
   "source": [
    "#séparation de la colonne genre dans le dataframe df_genre\n",
    "#on cree un df avec toutes les valeurs contenant le caractère '|'\n",
    "df_pc = df_prodcom[df_prodcom['production_companies'].str.contains('|')]\n",
    "df_pc_1 = df_pc.copy()\n",
    "\n",
    "#On coupe le dataframe et on créé un objet serie avec plusieurs index\n",
    "df_pc_1 = df_pc_1['production_companies'].str.split('|',expand=True).stack()\n",
    "\n",
    "#on créé une nouvelle colonne index pour faire une jointure\n",
    "df_pc['index']=df_pc.index\n",
    "\n",
    "#on extrait et on garde un seul niveau d'index et on créé une colonne index\n",
    "df_pc_1.index =df_pc_1.index.get_level_values(0)\n",
    "df_pc_1 = df_pc_1.to_frame() #df_genre_1 est transformé en dataframe\n",
    "df_pc_1.rename(columns = {0 : 'production_companie'}, inplace = True)\n",
    "df_pc_1['index']=df_pc_1.index\n",
    "\n",
    "# on réalise une jointure entre les 2 dataframe \n",
    "df_pc_2 = pd.merge(df_pc,df_pc_1, how='outer' ,on='index')\n",
    "\n",
    "#on déplace la colonne a la bonne position\n",
    "coldep = df_pc_2.pop('production_companie')\n",
    "df_pc_2.insert(9,'production_companie',coldep)\n",
    "\n",
    "#on supprime l'ancienne colonne genres et la colonne index\n",
    "df_pc_2.drop('production_companies',axis=1, inplace = True)\n",
    "df_pc_2.drop('index',axis=1, inplace = True)\n"
   ]
  },
  {
   "cell_type": "code",
   "execution_count": null,
   "metadata": {},
   "outputs": [],
   "source": [
    "df_merge_companies = df_pc_2"
   ]
  },
  {
   "cell_type": "markdown",
   "metadata": {},
   "source": [
    "Nous avons donc a cette etape 3 jeux de données :\n",
    "\n",
    "df_merge_genre qui nous permet d'observer les données suivant le genre de film\n",
    "df_merge_companies qui nous permet d'observer les données suivant la maison de production du film\n",
    "df qui nous permet d'observer les donnees sans aucun doublon\n",
    "\n",
    "Ces 3 dataframe vont nous permettre d'effectuer la phase d'exploration"
   ]
  },
  {
   "cell_type": "markdown",
   "metadata": {},
   "source": [
    "<a id='eda'></a>\n",
    "## Analyse exploratoire des données\n",
    "\n",
    "Nous allons effectuer l'exploration des données de notre dataset en déterminant la distribution des variables quantitatives, en evaluant la corrélation entre les colonnes de budget et les colonnes de revenus, en déterminant la fiabilité de la mesure popularity par rapport à vote_average et en observant la croissance de la production des films année après année.\n",
    " Dans cette phase nous allons également explorer les différentes questions que nous nous sommes posées en introduction."
   ]
  },
  {
   "cell_type": "markdown",
   "metadata": {},
   "source": [
    "### Distribution des variables\n",
    "\n",
    "Nous allons tout d'abord observer la distribution des variables quantitatives que sont :\n",
    "> <ul>\n",
    "    <li>revenue</li>\n",
    "    <li>revenue_adj</li>\n",
    "    <li>budget</li>\n",
    "    <li>budget_adj</li>\n",
    "    <li>popularity</li>\n",
    "    <li>runtime</li>\n",
    "    <li>release_year</li>\n",
    "    <li>vote_average</li>\n",
    "    <li>vote_count</li>\n",
    "  </ul>"
   ]
  },
  {
   "cell_type": "code",
   "execution_count": null,
   "metadata": {},
   "outputs": [],
   "source": [
    "df.hist(figsize=(13,13));"
   ]
  },
  {
   "cell_type": "markdown",
   "metadata": {},
   "source": [
    "#### Observations\n",
    "\n",
    "> <u>Observation 1 :</u> On constate à travers les histogrammes précédents que les colonnes __\"budget\", \"budget_adj\"__; Et __\"revenue, revenue_adj\"__ ont des distributions quasiment similaires. Nous effectuerons une étude de correlation entre les 4 (2 par 2) pour vérifier si il s'agit effectivement des me᷆mes variables. <br>\n",
    "<u>Observation 2 :</u> Il semblerait que la plupart des valeurs de la colonne __\"popularity\"__ soient comprisent entre 0 et 10 ce qui suggère des valeurs aberrantes dans le dataset pour cette colonne.<br>\n",
    "<u>Observation 3 :</u> La plupart des valeurs de la colonne __\"vote_count\"__ sont inférieur à 1000 ce qui suggere qu'il y a des films ultra populaires par rapport a d'autres <br>\n",
    "<u>Observation 4 :</u> la colonne __\"release_year\"__ semble avoir une croissance exponentielle.\n",
    "\n"
   ]
  },
  {
   "cell_type": "markdown",
   "metadata": {},
   "source": [
    "### Etude des correlations\n",
    "\n",
    "Nous observerons la correlation entre revenue et revenue_adj puis entre budget et budget_adj. "
   ]
  },
  {
   "cell_type": "code",
   "execution_count": null,
   "metadata": {},
   "outputs": [],
   "source": [
    "#fonction pour l'affichage des tracés de correlation entre les variables\n",
    "def plot_correlation (param_1,param_2):\n",
    "    df.plot(x= param_1, y= param_2, stacked=True, kind='scatter', figsize=(7,7));\n",
    "    plt.title('Tracé de correlation des variables {} et {}'.format(param_1,param_2))\n",
    "    "
   ]
  },
  {
   "cell_type": "code",
   "execution_count": null,
   "metadata": {},
   "outputs": [],
   "source": [
    "plot_correlation('revenue','revenue_adj')"
   ]
  },
  {
   "cell_type": "markdown",
   "metadata": {},
   "source": [
    "#### Observations\n",
    ">Nous observons que jusqu'a 1 000 000 000 les 2 courbes sont tres correlées (concentration forte) et on observe que la correlation est positive. donc la colonne __'revenue'__ est une bonne approximation de la colonne __'revenue_adj'__ pour une grande partie de notre dataset."
   ]
  },
  {
   "cell_type": "code",
   "execution_count": null,
   "metadata": {},
   "outputs": [],
   "source": [
    "plot_correlation('budget','budget_adj')"
   ]
  },
  {
   "cell_type": "markdown",
   "metadata": {},
   "source": [
    "#### Observations\n",
    ">Nous observons egalement une corrélation forte entre les 2 variables jusqu' à environ 250 000 000 et cette corrélation est positive. La colonne __'budget'__ est également une bonne approximation de la colonne __'budget_adj'__."
   ]
  },
  {
   "cell_type": "markdown",
   "metadata": {},
   "source": [
    "Observons la correlation entre la colonne __'revenue'__ et la colonne __'budget'__."
   ]
  },
  {
   "cell_type": "code",
   "execution_count": null,
   "metadata": {},
   "outputs": [],
   "source": [
    "plot_correlation('budget','revenue')"
   ]
  },
  {
   "cell_type": "markdown",
   "metadata": {},
   "source": [
    "#### Observations\n",
    ">A part la forte correlation dans le premier secteur du diagramme, on ne peut rien en déduire a priori."
   ]
  },
  {
   "cell_type": "markdown",
   "metadata": {},
   "source": [
    "### Etude des valeurs abberantes sur la colonne popularity\n",
    "Nous allons ensuite verifier si la colonne __'popularity'__ comporte des valeurs aberrantes."
   ]
  },
  {
   "cell_type": "code",
   "execution_count": null,
   "metadata": {},
   "outputs": [],
   "source": [
    "#Fonction d'affichage des valeurs abberantes des colonnes popularity et vote_average\n",
    "def val_abberante (param) :\n",
    "    df[param].plot(kind ='box', figsize=(5,5));"
   ]
  },
  {
   "cell_type": "code",
   "execution_count": null,
   "metadata": {},
   "outputs": [],
   "source": [
    "val_abberante('popularity')"
   ]
  },
  {
   "cell_type": "code",
   "execution_count": null,
   "metadata": {},
   "outputs": [],
   "source": [
    "val_abberante('vote_average')"
   ]
  },
  {
   "cell_type": "markdown",
   "metadata": {},
   "source": [
    "#### Observations\n",
    ">On constate effectivement que la colonne __'popularity'__ a beaucoup plus de valeurs aberrantes que la colonne __'vote_average'__ cette derniere semble donc mieux adaptee pour une etude."
   ]
  },
  {
   "cell_type": "markdown",
   "metadata": {},
   "source": [
    "Observons egalement la distribution de la colonne release_year"
   ]
  },
  {
   "cell_type": "code",
   "execution_count": null,
   "metadata": {},
   "outputs": [],
   "source": [
    "plt.title('distribution du nombre de films par an')\n",
    "sns.distplot(df.release_year, hist = True, kde = True);"
   ]
  },
  {
   "cell_type": "markdown",
   "metadata": {},
   "source": [
    "#### Observations\n",
    ">On peut constater qu'elle croit exponentiellement jusqu'a la derniere decennie."
   ]
  },
  {
   "cell_type": "markdown",
   "metadata": {},
   "source": [
    "### Quels genres de films sont les plus produits ?\n",
    "\n",
    "Nous allons determiner pour cela le nombre de films produits dans notre dataframe par genre."
   ]
  },
  {
   "cell_type": "code",
   "execution_count": null,
   "metadata": {},
   "outputs": [],
   "source": [
    "#On compte le nombre d'occurence de chaque genre de films\n",
    "df_merge_genre.genre.value_counts()"
   ]
  },
  {
   "cell_type": "markdown",
   "metadata": {},
   "source": [
    "#### Conclusion 1:\n",
    "Nous observons donc que les films les plus produits sont du genre :\n",
    "<ol>\n",
    "    <li>Drama</li>\n",
    "    <li>Comedy</li>\n",
    "    <li>Thriller</li>\n",
    "    <li>Action</li>\n",
    "    <li>Romance</li>\n",
    "</ol>"
   ]
  },
  {
   "cell_type": "markdown",
   "metadata": {},
   "source": [
    "### Quels sont les films les plus populaire?\n",
    "Nous pouvons observer ceci grace à 2 paramètres:\n",
    "<li>Popularity</li>\n",
    "<li>vote_average</li>\n",
    "Cependant dans la phase précédente on a pu se rendre compte que la colonne \"vote_average\"\n",
    "était plus appropriée pour une étude donc c’est elle que nous utiliserons."
   ]
  },
  {
   "cell_type": "code",
   "execution_count": null,
   "metadata": {},
   "outputs": [],
   "source": [
    "#On Liste par vote les films qui ont  la meilleure moyenne de vote \n",
    "df_merge_genre.groupby('genre').vote_average.mean().sort_values(ascending = False)"
   ]
  },
  {
   "cell_type": "markdown",
   "metadata": {},
   "source": [
    "#### Conclusion 2 :\n",
    "En terme de vote, les films qui recoivent les meilleures notes sont dans l'ordre :\n",
    "<ol>\n",
    "    <li>Documentary</li>\n",
    "    <li>Music</li>\n",
    "    <li>History</li>\n",
    "    <li>Animation</li>\n",
    "    <li>War</li>\n",
    "</ol>"
   ]
  },
  {
   "cell_type": "markdown",
   "metadata": {},
   "source": [
    "### Les films d'horreur sont-ils rentables ?\n",
    "\n",
    "Effectuons une étude de rentabilité des films d'horreur au sein de notre dataframe en comparant les revenus générés par ces films et les budgets qu'ils ont requis."
   ]
  },
  {
   "cell_type": "code",
   "execution_count": null,
   "metadata": {},
   "outputs": [],
   "source": [
    "#On extrait d'abord l'ensemble des films d'horreur de notre dataframe\n",
    "horror = df_merge_genre.query('genre == [\"Horror\"]')"
   ]
  },
  {
   "cell_type": "code",
   "execution_count": null,
   "metadata": {},
   "outputs": [],
   "source": [
    "#On élimine les valeurs nulles qui pourraient fausser nos résultats\n",
    "new_horror = horror.drop(horror[horror.revenue == 0].index, axis = 0) \n",
    "new_horror =new_horror.drop(new_horror[new_horror.budget == 0].index, axis = 0)"
   ]
  },
  {
   "cell_type": "code",
   "execution_count": null,
   "metadata": {},
   "outputs": [],
   "source": [
    "#Creation de la colonne rentability dans notre dataframe new_horror \n",
    "new_horror['rentability'] = 'not rentable'"
   ]
  },
  {
   "cell_type": "code",
   "execution_count": null,
   "metadata": {},
   "outputs": [],
   "source": [
    "#Si la condition est respecter on attribut la valeur rentable a cette colonne\n",
    "new_horror.loc[new_horror['budget'] < new_horror['revenue'],'rentability'] ='rentable'"
   ]
  },
  {
   "cell_type": "code",
   "execution_count": null,
   "metadata": {
    "scrolled": true
   },
   "outputs": [],
   "source": [
    "#Graphique en secteur de la rentabilite des films d'horreur\n",
    "new_horror.rentability.value_counts().plot(kind='pie',colors =['blue','red'], explode = (0, 0.1), figsize =(6,6));"
   ]
  },
  {
   "cell_type": "code",
   "execution_count": null,
   "metadata": {},
   "outputs": [],
   "source": [
    "new_horror.rentability.value_counts()"
   ]
  },
  {
   "cell_type": "code",
   "execution_count": null,
   "metadata": {},
   "outputs": [],
   "source": [
    "perc =(new_horror.query('rentability == \"rentable\"').rentability.value_counts()/new_horror.shape[0])*100"
   ]
  },
  {
   "cell_type": "code",
   "execution_count": null,
   "metadata": {},
   "outputs": [],
   "source": [
    "print(\"les films d'horreur sont rentables à {} %\".format(perc[0].astype(int)))"
   ]
  },
  {
   "cell_type": "markdown",
   "metadata": {},
   "source": [
    "#### Conclusion 3 :\n",
    "Sur une étude des échantillons proposés nous nous rendons compte que les films d'horreur ne sont rentables en general"
   ]
  },
  {
   "cell_type": "markdown",
   "metadata": {},
   "source": [
    "### Quelles compagnies produisent le plus de films?\n",
    "Nous essayons de determiner les 5 maisons de production qui ont produits le plus de film dans notre dataframe"
   ]
  },
  {
   "cell_type": "code",
   "execution_count": null,
   "metadata": {},
   "outputs": [],
   "source": [
    "#class_prod contient la liste des maisons de production et leur nombre d'ocurrence dans le dataframe\n",
    "class_prod = df_merge_companies['production_companie'].value_counts()\n",
    "#best_prod contient les 5 meilleurs\n",
    "#On exclu le premier car il s'agit des valeurs nulles\n",
    "best_prod = class_prod.iloc[1:6]"
   ]
  },
  {
   "cell_type": "code",
   "execution_count": null,
   "metadata": {},
   "outputs": [],
   "source": [
    "#Diagramme a bande horizontal pour les maisons de production les plus performantes\n",
    "plt.subplots(figsize=(8, 8))\n",
    "plt.barh(best_prod.index, best_prod.values)\n",
    "plt.yticks(rotation=30)\n",
    "plt.title('les maisons de production les plus performantes')\n",
    "plt.xlabel('Nom de la maison de production')\n",
    "plt.ylabel('Nombre de films produits');"
   ]
  },
  {
   "cell_type": "code",
   "execution_count": null,
   "metadata": {},
   "outputs": [],
   "source": [
    "#Liste des 5 meilleures maisons de production\n",
    "best_prod"
   ]
  },
  {
   "cell_type": "markdown",
   "metadata": {},
   "source": [
    "#### Conclusion 4 :\n",
    "Les maisons de production les plus prolefiques sont \n",
    "<ol>\n",
    "    <li>Universal pictures</li>\n",
    "    <li>Warner Bros</li>\n",
    "    <li>Paramount Pictures, Columbiaa Pictures</li>\n",
    "    <li>Columbia Pictures</li>\n",
    "    <li>Twentieth Century Fox Film Corporation</li>\n",
    "\n",
    "</ol>\n",
    ", , , ."
   ]
  },
  {
   "cell_type": "markdown",
   "metadata": {},
   "source": [
    "### Quels sont les revenues des 5 meilleures maisons de production en 2017 ?"
   ]
  },
  {
   "cell_type": "code",
   "execution_count": null,
   "metadata": {},
   "outputs": [],
   "source": [
    "#df_2015 contient la liste des enregitrements de films de l'annee 2015 \n",
    "df_2015 = df_merge_companies[df_merge_companies.release_year == 2015]"
   ]
  },
  {
   "cell_type": "code",
   "execution_count": null,
   "metadata": {},
   "outputs": [],
   "source": [
    "#df_2015_best contient le revenue total de chacune des 5 meilleurs maisons de production en 2015\n",
    "df_2015_best = df_2015.groupby('production_companie').sum().revenue.loc[best_prod.index]"
   ]
  },
  {
   "cell_type": "code",
   "execution_count": null,
   "metadata": {},
   "outputs": [],
   "source": [
    "# Diagramme a barre des revenues des 5 meilleurs en 2015\n",
    "df_2015_best.plot(kind='bar')\n",
    "plt.xlabel('best production companies')\n",
    "plt.ylabel('revenue in 2015')\n",
    "plt.xticks(rotation = 80)\n",
    "plt.title('revenue of best production companies in 2015');"
   ]
  },
  {
   "cell_type": "markdown",
   "metadata": {},
   "source": [
    "#### Conclusion 5 :\n",
    "Les revenues de ces maisons de production en 2015 sont les suivants :"
   ]
  },
  {
   "cell_type": "code",
   "execution_count": null,
   "metadata": {},
   "outputs": [],
   "source": [
    "print(df_2015_best.sort_values())"
   ]
  },
  {
   "cell_type": "markdown",
   "metadata": {},
   "source": [
    "<a id='conclusions'></a>\n",
    "## Conclusions\n",
    "\n",
    "Au debut de notre projet nous nous sommes pose les questions suivantes :\n",
    "\n",
    "### Questions d'analyse\n",
    "Nous avons décidé de nous poser 5 questions pour analyser notre dataset :\n",
    "<ul>\n",
    "    <li>Quels genres de films sont les plus produits?</li>\n",
    "    <li>Quels genres de films sont les plus populaire?</li>\n",
    "    <li>Quelles maisons de production produisent le plus de films ?</li>\n",
    "    <li>Quels revenus ont elles engrangés grace à leurs films de 2015 ?</li>\n",
    "    <li>Les films d'horreur sont ils rentables ?</li>\n",
    "</ul>\n",
    "Ces questions ont pour but d'explorer la rentabilité des films en fonction de leur genre et de l'avis des différents internautes. Nos questions ont également pour but d'observer les gains des différentes maisons de production. <br>\n",
    "\n",
    "> Au terme de notre analyse et en fonction des résultats obtenus lors de la phase d'exploration, nous avons obtenu les résultats suivants: <br>\n",
    "\n",
    "<u><strong>conclusion 1 :</strong></u> les genres de films qui sont les plus produits sont Drama, Comedy, Thriller, Action, Romance <br>\n",
    "\n",
    "<u><strong>conclusion 2 :</strong></u> les films qui les plus populaires sont de type Documentary, Music, History, Animation, War <br>\n",
    "\n",
    "<u><strong>conclusion 3 :</strong></u> Globalement les films d'horreur sont des films rentables <br>\n",
    "\n",
    "<u><strong>conclusion 4 :</strong></u> les 5 maisons les plus productives sont Universal Pictures, Warner Bros., Paramount Pictures, Twentieth Century Fox Film Corporation et Columbia Pictures. <br>\n",
    "\n",
    "<u><strong>conclusion 5 :</strong></u> En 2015,On peut constater que la maison Warner Bros. a fait plus de bénéfices que les autres. <br>\n",
    "\n",
    "### Limites de l'analyses\n",
    "\n",
    "Notre analyse présente certaines limites à savoir:\n",
    "<ul>\n",
    "    <li>Nous n'avons pas utilisé toutes les ressources pertinentes de notre dataset comme la colonne \"cast\" </li>\n",
    "    <li>L'étude de popularité peut e᷆tre biaisée à cause du grand nombre de valeurs aberrantes </li>\n",
    "    <li>Le nombre de films d'horreur non rentable est assez élevé (environ 25% des films analysés) </li>\n",
    "</ul>\n",
    "\n",
    "\n",
    "## Submitting your Project \n",
    "\n",
    "> **Tip**: Before you submit your project, you need to create a .html or .pdf version of this notebook in the workspace here. To do that, run the code cell below. If it worked correctly, you should get a return code of 0, and you should see the generated .html file in the workspace directory (click on the orange Jupyter icon in the upper left).\n",
    "\n",
    "> **Tip**: Alternatively, you can download this report as .html via the **File** > **Download as** submenu, and then manually upload it into the workspace directory by clicking on the orange Jupyter icon in the upper left, then using the Upload button.\n",
    "\n",
    "> **Tip**: Once you've done this, you can submit your project by clicking on the \"Submit Project\" button in the lower right here. This will create and submit a zip file with this .ipynb doc and the .html or .pdf version you created. Congratulations!"
   ]
  },
  {
   "cell_type": "markdown",
   "metadata": {},
   "source": [
    "## Sources\n",
    "> https://pandas.pydata.org/docs <br>\n",
    ">https://stackoverflow.com/questions/71489282/split-column-in-a-pandas-dataframe-into-n-number-of-columns <br>\n",
    ">https://thispointer.com/pandas-how-to-merge-dataframes-by-index-using-dataframe-merge-part-3"
   ]
  },
  {
   "cell_type": "code",
   "execution_count": null,
   "metadata": {},
   "outputs": [],
   "source": [
    "from subprocess import call\n",
    "call(['python', '-m', 'nbconvert', 'Investigate_a_Dataset.ipynb'])"
   ]
  }
 ],
 "metadata": {
  "kernelspec": {
   "display_name": "Python 3",
   "language": "python",
   "name": "python3"
  },
  "language_info": {
   "codemirror_mode": {
    "name": "ipython",
    "version": 3
   },
   "file_extension": ".py",
   "mimetype": "text/x-python",
   "name": "python",
   "nbconvert_exporter": "python",
   "pygments_lexer": "ipython3",
   "version": "3.6.3"
  }
 },
 "nbformat": 4,
 "nbformat_minor": 2
}
